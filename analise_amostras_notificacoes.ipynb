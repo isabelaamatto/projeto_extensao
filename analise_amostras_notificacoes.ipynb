{
 "cells": [
  {
   "cell_type": "code",
   "execution_count": 1,
   "metadata": {},
   "outputs": [],
   "source": [
    "import json\n",
    "import numpy as np\n",
    "import pandas as pd"
   ]
  },
  {
   "cell_type": "code",
   "execution_count": 2,
   "metadata": {},
   "outputs": [],
   "source": [
    "# Ler arquivo\n",
    "with open('amostraNotificacoesRecebidas.json') as f:\n",
    "    auth = json.load(f)"
   ]
  },
  {
   "cell_type": "code",
   "execution_count": null,
   "metadata": {},
   "outputs": [],
   "source": [
    "# exibir conteudo do arquvo\n",
    "auth"
   ]
  },
  {
   "cell_type": "code",
   "execution_count": null,
   "metadata": {},
   "outputs": [],
   "source": [
    "# tamanho do arquivo\n",
    "len(auth)"
   ]
  },
  {
   "cell_type": "code",
   "execution_count": null,
   "metadata": {},
   "outputs": [],
   "source": [
    "# O arquivo foi lido como lista de dicionarios\n",
    "# mostrar chave to primeiro item\n",
    "auth[0].keys()"
   ]
  },
  {
   "cell_type": "code",
   "execution_count": null,
   "metadata": {},
   "outputs": [],
   "source": [
    "auth[19].keys()"
   ]
  },
  {
   "cell_type": "code",
   "execution_count": null,
   "metadata": {},
   "outputs": [],
   "source": [
    "# exibir os valores para cada chave\n",
    "auth[0]['notificacao']\n",
    "auth[0]['medicamentos']\n",
    "auth[0]['reacoes']\n",
    "auth[0]['doencasConcomitantes']"
   ]
  },
  {
   "cell_type": "code",
   "execution_count": null,
   "metadata": {},
   "outputs": [],
   "source": [
    "interesse = ['notificacaoID', 'sexoPaciente']"
   ]
  },
  {
   "cell_type": "code",
   "execution_count": null,
   "metadata": {},
   "outputs": [],
   "source": [
    "filtro = [interesse for interesse in auth]"
   ]
  },
  {
   "cell_type": "code",
   "execution_count": null,
   "metadata": {},
   "outputs": [],
   "source": [
    "type(auth)"
   ]
  },
  {
   "cell_type": "code",
   "execution_count": null,
   "metadata": {},
   "outputs": [],
   "source": [
    "type(auth[0])"
   ]
  },
  {
   "cell_type": "code",
   "execution_count": null,
   "metadata": {},
   "outputs": [],
   "source": [
    "type(auth[1])"
   ]
  },
  {
   "cell_type": "code",
   "execution_count": null,
   "metadata": {},
   "outputs": [],
   "source": [
    "# The json.dumps method can be used to print either the entire file\n",
    "# or a specific dictionary from the list in a formatted manner by using the indent parameter\n",
    "json.dumps(auth[0], indent=2)"
   ]
  },
  {
   "cell_type": "code",
   "execution_count": null,
   "metadata": {},
   "outputs": [],
   "source": [
    "type(auth[1]['medicamentos'][0]['medicamento'])"
   ]
  },
  {
   "cell_type": "markdown",
   "metadata": {},
   "source": [
    "Uma explicação que ajuda a compreender o formato json e como acessar itens em uma lista de\n",
    "dicionários:\n",
    "- auth é uma lista de dicionários\n",
    "- auth[0] é o primeiro dicionário\n",
    "- dentro de auth[0] há uma chave medicamentos, cujo valor é uma lista e contem dicionários\n",
    "- auth[0]['medicamentos'][0] é o primeiro dicionário dessa lista\n",
    "- dentro de auth[0]['medicamentos'][0] há uma chave medicamento, que é uma lista (ou string?)\n",
    "- auth[0]['medicamentos'][0]['medicamento'] é a primeira chave na lista\n"
   ]
  },
  {
   "cell_type": "code",
   "execution_count": null,
   "metadata": {},
   "outputs": [],
   "source": [
    "auth[3]['medicamentos'][1]['medicamento']"
   ]
  },
  {
   "cell_type": "code",
   "execution_count": null,
   "metadata": {},
   "outputs": [],
   "source": [
    "# como acessar o conteúdo das chaves e listas de cada dicionário contido no aqrquivo json\n",
    "auth[1]['medicamentos'][0]['medicamento']"
   ]
  },
  {
   "cell_type": "code",
   "execution_count": null,
   "metadata": {},
   "outputs": [],
   "source": [
    "auth[4]['reacoes'][0]['reacao']"
   ]
  },
  {
   "cell_type": "code",
   "execution_count": null,
   "metadata": {},
   "outputs": [],
   "source": [
    "for reacoes in auth:\n",
    "    plot = reacoes['reacoes']\n",
    "    for reacao in plot:\n",
    "        print(reacao['reacao'])"
   ]
  },
  {
   "cell_type": "code",
   "execution_count": null,
   "metadata": {},
   "outputs": [],
   "source": [
    "for lista_reacoes in auth:\n",
    "    if 'reacoes' in lista_reacoes :\n",
    "        plot = lista_reacoes['reacoes']\n",
    "        for reacao in plot:\n",
    "            if 'reacao' in reacao :\n",
    "                print(reacao['reacao'])"
   ]
  },
  {
   "cell_type": "code",
   "execution_count": 15,
   "metadata": {},
   "outputs": [],
   "source": [
    "# Criar uma lista vazia para armazenar as informações que serão coletadas\n",
    "dados_notificacoes = []\n",
    "# Iterar sobre cada notificacao presente no conjunto de dados\n",
    "for objeto in auth:\n",
    "    # Acessando cada uma das chaves da lista de dicionários\n",
    "    notificacao = objeto['notificacao'][0]\n",
    "    id_notificacao = notificacao['notificacaoId'] # Para acessar o id da notificacao\n",
    "    sexo = notificacao['sexoPaciente']\n",
    "    medicamentos = objeto['medicamentos']\n",
    "    reacoes = objeto['reacoes']\n",
    "    for medicamento in medicamentos:\n",
    "        nome_medicamento = medicamento['medicamento']\n",
    "        for reacao in reacoes:\n",
    "            descricao_reacoes = reacao['reacao']\n",
    "            # Criar um dicionário que irá armazenar as informações na lista dados_notificacoes\n",
    "            informacao = {\n",
    "                'notificacao_id': id_notificacao,\n",
    "                'medicamento': nome_medicamento,\n",
    "                'reacao': descricao_reacoes,\n",
    "                'sexoPaciente': sexo\n",
    "            }\n",
    "            # Utilizar a funcao append para adicionar as informacoes de cada notificacao na lista dados_notificacoes\n",
    "            dados_notificacoes.append(informacao)\n",
    "    "
   ]
  },
  {
   "cell_type": "code",
   "execution_count": 27,
   "metadata": {},
   "outputs": [],
   "source": [
    "# Para uma visualização mais clara dos dados obtidos, podemos converter os dados para o formato dataframe (tabela)\n",
    "df_notificacoes = pd.DataFrame(dados_notificacoes)"
   ]
  }
 ],
 "metadata": {
  "kernelspec": {
   "display_name": "env_i",
   "language": "python",
   "name": "python3"
  },
  "language_info": {
   "codemirror_mode": {
    "name": "ipython",
    "version": 3
   },
   "file_extension": ".py",
   "mimetype": "text/x-python",
   "name": "python",
   "nbconvert_exporter": "python",
   "pygments_lexer": "ipython3",
   "version": "3.12.2"
  }
 },
 "nbformat": 4,
 "nbformat_minor": 2
}
