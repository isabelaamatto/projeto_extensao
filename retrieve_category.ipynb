{
  "cells": [
    {
      "cell_type": "code",
      "execution_count": 125,
      "metadata": {
        "id": "oWUn83md1QPA"
      },
      "outputs": [],
      "source": [
        "#https://thepythoncode.com/article/extracting-and-submitting-web-page-forms-in-python\n",
        "import requests\n",
        "from bs4 import BeautifulSoup\n",
        "import re\n",
        "\n",
        "def getCategory(drug_name):\n",
        "    headers = {'User-Agent': 'Mozilla/5.0'}\n",
        "    r = requests.get(f\"https://consultaremedios.com.br/{drug_name.lower()}/bula\", headers=headers)\n",
        "    #r.raise_for_status()\n",
        "\n",
        "    soup = BeautifulSoup(r.text, \"html.parser\")\n",
        "    scripts = soup.find_all(\"script\")\n",
        "\n",
        "    item_list = [x.text for x in scripts if 'view_item_list' in x.text][0]\n",
        "    category = ''\n",
        "    for y in item_list.split(','):\n",
        "        if 'category' in y:\n",
        "            category = re.sub(r\"\\'category\\': (\\'.+\\')\", '\\\\1', y)\n",
        "            print(y)\n",
        "    return category.replace(\"'\", '').replace(' ', '')"
      ]
    },
    {
      "cell_type": "code",
      "execution_count": 126,
      "metadata": {
        "colab": {
          "base_uri": "https://localhost:8080/",
          "height": 53
        },
        "id": "CxMBxlf42x94",
        "outputId": "e269ad65-fc55-4bdb-fb28-7bbad35527cc"
      },
      "outputs": [
        {
          "name": "stdout",
          "output_type": "stream",
          "text": [
            " 'category': 'HIV/AIDS'\n"
          ]
        },
        {
          "data": {
            "application/vnd.google.colaboratory.intrinsic+json": {
              "type": "string"
            },
            "text/plain": [
              "'HIV/AIDS'"
            ]
          },
          "execution_count": 126,
          "metadata": {},
          "output_type": "execute_result"
        }
      ],
      "source": [
        "getCategory('ZIAGENAVIR')"
      ]
    },
    {
      "cell_type": "code",
      "execution_count": 127,
      "metadata": {
        "colab": {
          "base_uri": "https://localhost:8080/",
          "height": 53
        },
        "id": "9MVvyZdP3WV3",
        "outputId": "e42de434-abf8-40e6-db93-c9902891e9b1"
      },
      "outputs": [
        {
          "name": "stdout",
          "output_type": "stream",
          "text": [
            " 'category': 'Mama'\n"
          ]
        },
        {
          "data": {
            "application/vnd.google.colaboratory.intrinsic+json": {
              "type": "string"
            },
            "text/plain": [
              "'Mama'"
            ]
          },
          "execution_count": 127,
          "metadata": {},
          "output_type": "execute_result"
        }
      ],
      "source": [
        "getCategory('VERZENIOS')"
      ]
    },
    {
      "cell_type": "code",
      "execution_count": 128,
      "metadata": {
        "colab": {
          "base_uri": "https://localhost:8080/",
          "height": 53
        },
        "id": "nLfAQau-3wXG",
        "outputId": "00aec3a7-215a-454e-9215-72525d826d0d"
      },
      "outputs": [
        {
          "name": "stdout",
          "output_type": "stream",
          "text": [
            " 'category': 'Próstata'\n"
          ]
        },
        {
          "data": {
            "application/vnd.google.colaboratory.intrinsic+json": {
              "type": "string"
            },
            "text/plain": [
              "'Próstata'"
            ]
          },
          "execution_count": 128,
          "metadata": {},
          "output_type": "execute_result"
        }
      ],
      "source": [
        "getCategory('ZYTIGA')"
      ]
    },
    {
      "cell_type": "code",
      "execution_count": null,
      "metadata": {
        "id": "s1-YNHFf4ZMr"
      },
      "outputs": [],
      "source": []
    }
  ],
  "metadata": {
    "colab": {
      "provenance": []
    },
    "kernelspec": {
      "display_name": "Python 3",
      "name": "python3"
    },
    "language_info": {
      "name": "python",
      "version": "3.12.2"
    }
  },
  "nbformat": 4,
  "nbformat_minor": 0
}
